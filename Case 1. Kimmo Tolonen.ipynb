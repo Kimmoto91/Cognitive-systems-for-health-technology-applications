{
 "cells": [
  {
   "cell_type": "markdown",
   "metadata": {},
   "source": [
    "# Case 1. Heart Disease Classification\n",
    "Kimmo Eemi Juhani Tolonen   \n",
    "Last edited: 04.02.2018   \n",
    "Cognitive Systems for Health Technology Applications   \n",
    "Helsinki Metropolia University of Applied Sciences"
   ]
  },
  {
   "cell_type": "markdown",
   "metadata": {},
   "source": [
    "### 1. Objectives\n",
    "<br>\n",
    "Purpose of this first case is learn to process data with Jupyter notebook and use it with libraries. I chose to use processed  data only for this assigment, because it is simpler to me than process raw data, considering my experiences with these kind of programming so far. <br> The aim of this assignment is to learn to read data from externals sources using panda’s iofunctions\n",
    "and use keras.io dense neural networks to make an expert system to support in\n",
    "diagnostic decision making."
   ]
  },
  {
   "cell_type": "markdown",
   "metadata": {},
   "source": [
    "### 2. Required libraries"
   ]
  },
  {
   "cell_type": "code",
   "execution_count": 284,
   "metadata": {},
   "outputs": [],
   "source": [
    "# Import libraries which are needed in this case.\n",
    "\n",
    "import numpy as np\n",
    "import matplotlib.pyplot as plt\n",
    "import pandas as pd\n",
    "\n",
    "import keras\n",
    "from keras.models import Sequential\n",
    "from keras.layers import Dense\n",
    "from keras import models\n",
    "from keras import layers\n",
    "\n",
    "import itertools \n",
    "from sklearn import svm, datasets\n",
    "from sklearn.metrics import classification_report, confusion_matrix\n",
    "from sklearn import preprocessing\n",
    "from sklearn.model_selection import train_test_split\n",
    "\n",
    "%matplotlib inline"
   ]
  },
  {
   "cell_type": "markdown",
   "metadata": {},
   "source": [
    "### 3. Data description and preprocessing"
   ]
  },
  {
   "cell_type": "code",
   "execution_count": 285,
   "metadata": {
    "scrolled": true
   },
   "outputs": [],
   "source": [
    "# Read 4 databases from website.\n",
    "\n",
    "cleveland_pro = 'https://archive.ics.uci.edu/ml/machine-learning-databases/heart-disease/processed.cleveland.data'\n",
    "hungarian = 'https://archive.ics.uci.edu/ml/machine-learning-databases/heart-disease/processed.hungarian.data'\n",
    "longbeach = 'https://archive.ics.uci.edu/ml/machine-learning-databases/heart-disease/processed.va.data'\n",
    "switzerland = 'https://archive.ics.uci.edu/ml/machine-learning-databases/heart-disease/processed.switzerland.data'\n",
    "\n",
    "# Name columns from databases\n",
    "\n",
    "colnames = ['age', 'sex', 'cp', 'tresbps', 'chol','fbs', 'restecg', 'thalach', 'exang',\n",
    "'oldpeak', 'slope', 'ca', 'thal', 'num']\n",
    "\n",
    "# Read data from datafile and make dataframe for each database.\n",
    "\n",
    "# Cleveland\n",
    "dfc = pd.read_csv(cleveland_pro,\n",
    "                 names = colnames,\n",
    "                 na_values = '?')\n",
    "\n",
    "# Hungarian\n",
    "dfh = pd.read_csv(hungarian,\n",
    "                 names = colnames,\n",
    "                 na_values = '?')\n",
    "\n",
    "# Longbeach\n",
    "dfl = pd.read_csv(longbeach,\n",
    "                 names = colnames,\n",
    "                 na_values = '?')\n",
    "\n",
    "# Switzerland\n",
    "dfs = pd.read_csv(switzerland,\n",
    "                 names = colnames,\n",
    "                 na_values = '?')\n",
    "\n",
    "\n",
    "# Create one large frame from created dataframes.\n",
    "df = [dfc, dfh, dfl, dfs]\n",
    "\n",
    "df = pd.concat(df)"
   ]
  },
  {
   "cell_type": "code",
   "execution_count": 286,
   "metadata": {},
   "outputs": [
    {
     "data": {
      "text/html": [
       "<div>\n",
       "<style scoped>\n",
       "    .dataframe tbody tr th:only-of-type {\n",
       "        vertical-align: middle;\n",
       "    }\n",
       "\n",
       "    .dataframe tbody tr th {\n",
       "        vertical-align: top;\n",
       "    }\n",
       "\n",
       "    .dataframe thead th {\n",
       "        text-align: right;\n",
       "    }\n",
       "</style>\n",
       "<table border=\"1\" class=\"dataframe\">\n",
       "  <thead>\n",
       "    <tr style=\"text-align: right;\">\n",
       "      <th></th>\n",
       "      <th>age</th>\n",
       "      <th>sex</th>\n",
       "      <th>cp</th>\n",
       "      <th>tresbps</th>\n",
       "      <th>chol</th>\n",
       "      <th>fbs</th>\n",
       "      <th>restecg</th>\n",
       "      <th>thalach</th>\n",
       "      <th>exang</th>\n",
       "      <th>oldpeak</th>\n",
       "      <th>slope</th>\n",
       "      <th>ca</th>\n",
       "      <th>thal</th>\n",
       "      <th>num</th>\n",
       "    </tr>\n",
       "  </thead>\n",
       "  <tbody>\n",
       "    <tr>\n",
       "      <th>count</th>\n",
       "      <td>920.000000</td>\n",
       "      <td>920.000000</td>\n",
       "      <td>920.000000</td>\n",
       "      <td>861.000000</td>\n",
       "      <td>890.000000</td>\n",
       "      <td>830.000000</td>\n",
       "      <td>918.000000</td>\n",
       "      <td>865.000000</td>\n",
       "      <td>865.000000</td>\n",
       "      <td>858.000000</td>\n",
       "      <td>611.000000</td>\n",
       "      <td>309.000000</td>\n",
       "      <td>434.000000</td>\n",
       "      <td>920.000000</td>\n",
       "    </tr>\n",
       "    <tr>\n",
       "      <th>mean</th>\n",
       "      <td>53.510870</td>\n",
       "      <td>0.789130</td>\n",
       "      <td>3.250000</td>\n",
       "      <td>132.132404</td>\n",
       "      <td>199.130337</td>\n",
       "      <td>0.166265</td>\n",
       "      <td>0.604575</td>\n",
       "      <td>137.545665</td>\n",
       "      <td>0.389595</td>\n",
       "      <td>0.878788</td>\n",
       "      <td>1.770867</td>\n",
       "      <td>0.676375</td>\n",
       "      <td>5.087558</td>\n",
       "      <td>0.995652</td>\n",
       "    </tr>\n",
       "    <tr>\n",
       "      <th>std</th>\n",
       "      <td>9.424685</td>\n",
       "      <td>0.408148</td>\n",
       "      <td>0.930969</td>\n",
       "      <td>19.066070</td>\n",
       "      <td>110.780810</td>\n",
       "      <td>0.372543</td>\n",
       "      <td>0.805827</td>\n",
       "      <td>25.926276</td>\n",
       "      <td>0.487941</td>\n",
       "      <td>1.091226</td>\n",
       "      <td>0.619256</td>\n",
       "      <td>0.935653</td>\n",
       "      <td>1.919075</td>\n",
       "      <td>1.142693</td>\n",
       "    </tr>\n",
       "    <tr>\n",
       "      <th>min</th>\n",
       "      <td>28.000000</td>\n",
       "      <td>0.000000</td>\n",
       "      <td>1.000000</td>\n",
       "      <td>0.000000</td>\n",
       "      <td>0.000000</td>\n",
       "      <td>0.000000</td>\n",
       "      <td>0.000000</td>\n",
       "      <td>60.000000</td>\n",
       "      <td>0.000000</td>\n",
       "      <td>-2.600000</td>\n",
       "      <td>1.000000</td>\n",
       "      <td>0.000000</td>\n",
       "      <td>3.000000</td>\n",
       "      <td>0.000000</td>\n",
       "    </tr>\n",
       "    <tr>\n",
       "      <th>25%</th>\n",
       "      <td>47.000000</td>\n",
       "      <td>1.000000</td>\n",
       "      <td>3.000000</td>\n",
       "      <td>120.000000</td>\n",
       "      <td>175.000000</td>\n",
       "      <td>0.000000</td>\n",
       "      <td>0.000000</td>\n",
       "      <td>120.000000</td>\n",
       "      <td>0.000000</td>\n",
       "      <td>0.000000</td>\n",
       "      <td>1.000000</td>\n",
       "      <td>0.000000</td>\n",
       "      <td>3.000000</td>\n",
       "      <td>0.000000</td>\n",
       "    </tr>\n",
       "    <tr>\n",
       "      <th>50%</th>\n",
       "      <td>54.000000</td>\n",
       "      <td>1.000000</td>\n",
       "      <td>4.000000</td>\n",
       "      <td>130.000000</td>\n",
       "      <td>223.000000</td>\n",
       "      <td>0.000000</td>\n",
       "      <td>0.000000</td>\n",
       "      <td>140.000000</td>\n",
       "      <td>0.000000</td>\n",
       "      <td>0.500000</td>\n",
       "      <td>2.000000</td>\n",
       "      <td>0.000000</td>\n",
       "      <td>6.000000</td>\n",
       "      <td>1.000000</td>\n",
       "    </tr>\n",
       "    <tr>\n",
       "      <th>75%</th>\n",
       "      <td>60.000000</td>\n",
       "      <td>1.000000</td>\n",
       "      <td>4.000000</td>\n",
       "      <td>140.000000</td>\n",
       "      <td>268.000000</td>\n",
       "      <td>0.000000</td>\n",
       "      <td>1.000000</td>\n",
       "      <td>157.000000</td>\n",
       "      <td>1.000000</td>\n",
       "      <td>1.500000</td>\n",
       "      <td>2.000000</td>\n",
       "      <td>1.000000</td>\n",
       "      <td>7.000000</td>\n",
       "      <td>2.000000</td>\n",
       "    </tr>\n",
       "    <tr>\n",
       "      <th>max</th>\n",
       "      <td>77.000000</td>\n",
       "      <td>1.000000</td>\n",
       "      <td>4.000000</td>\n",
       "      <td>200.000000</td>\n",
       "      <td>603.000000</td>\n",
       "      <td>1.000000</td>\n",
       "      <td>2.000000</td>\n",
       "      <td>202.000000</td>\n",
       "      <td>1.000000</td>\n",
       "      <td>6.200000</td>\n",
       "      <td>3.000000</td>\n",
       "      <td>3.000000</td>\n",
       "      <td>7.000000</td>\n",
       "      <td>4.000000</td>\n",
       "    </tr>\n",
       "  </tbody>\n",
       "</table>\n",
       "</div>"
      ],
      "text/plain": [
       "              age         sex          cp     tresbps        chol         fbs  \\\n",
       "count  920.000000  920.000000  920.000000  861.000000  890.000000  830.000000   \n",
       "mean    53.510870    0.789130    3.250000  132.132404  199.130337    0.166265   \n",
       "std      9.424685    0.408148    0.930969   19.066070  110.780810    0.372543   \n",
       "min     28.000000    0.000000    1.000000    0.000000    0.000000    0.000000   \n",
       "25%     47.000000    1.000000    3.000000  120.000000  175.000000    0.000000   \n",
       "50%     54.000000    1.000000    4.000000  130.000000  223.000000    0.000000   \n",
       "75%     60.000000    1.000000    4.000000  140.000000  268.000000    0.000000   \n",
       "max     77.000000    1.000000    4.000000  200.000000  603.000000    1.000000   \n",
       "\n",
       "          restecg     thalach       exang     oldpeak       slope          ca  \\\n",
       "count  918.000000  865.000000  865.000000  858.000000  611.000000  309.000000   \n",
       "mean     0.604575  137.545665    0.389595    0.878788    1.770867    0.676375   \n",
       "std      0.805827   25.926276    0.487941    1.091226    0.619256    0.935653   \n",
       "min      0.000000   60.000000    0.000000   -2.600000    1.000000    0.000000   \n",
       "25%      0.000000  120.000000    0.000000    0.000000    1.000000    0.000000   \n",
       "50%      0.000000  140.000000    0.000000    0.500000    2.000000    0.000000   \n",
       "75%      1.000000  157.000000    1.000000    1.500000    2.000000    1.000000   \n",
       "max      2.000000  202.000000    1.000000    6.200000    3.000000    3.000000   \n",
       "\n",
       "             thal         num  \n",
       "count  434.000000  920.000000  \n",
       "mean     5.087558    0.995652  \n",
       "std      1.919075    1.142693  \n",
       "min      3.000000    0.000000  \n",
       "25%      3.000000    0.000000  \n",
       "50%      6.000000    1.000000  \n",
       "75%      7.000000    2.000000  \n",
       "max      7.000000    4.000000  "
      ]
     },
     "execution_count": 286,
     "metadata": {},
     "output_type": "execute_result"
    }
   ],
   "source": [
    "# Describe dataframe\n",
    "\n",
    "df.describe()"
   ]
  },
  {
   "cell_type": "code",
   "execution_count": 287,
   "metadata": {},
   "outputs": [
    {
     "data": {
      "text/plain": [
       "age         53.510870\n",
       "sex          0.789130\n",
       "cp           3.250000\n",
       "tresbps    132.132404\n",
       "chol       199.130337\n",
       "fbs          0.166265\n",
       "restecg      0.604575\n",
       "thalach    137.545665\n",
       "exang        0.389595\n",
       "oldpeak      0.878788\n",
       "slope        1.770867\n",
       "ca           0.676375\n",
       "thal         5.087558\n",
       "num          0.995652\n",
       "dtype: float64"
      ]
     },
     "execution_count": 287,
     "metadata": {},
     "output_type": "execute_result"
    }
   ],
   "source": [
    "# Mean of each attribute from dataframe.\n",
    "\n",
    "df.mean()"
   ]
  },
  {
   "cell_type": "code",
   "execution_count": 288,
   "metadata": {},
   "outputs": [
    {
     "data": {
      "text/plain": [
       "age        920\n",
       "sex        920\n",
       "cp         920\n",
       "tresbps    861\n",
       "chol       890\n",
       "fbs        830\n",
       "restecg    918\n",
       "thalach    865\n",
       "exang      865\n",
       "oldpeak    858\n",
       "slope      611\n",
       "ca         309\n",
       "thal       434\n",
       "num        920\n",
       "dtype: int64"
      ]
     },
     "execution_count": 288,
     "metadata": {},
     "output_type": "execute_result"
    }
   ],
   "source": [
    "# Sum of attributes from dataframe.\n",
    "\n",
    "np.sum(~np.isnan(df))"
   ]
  },
  {
   "cell_type": "code",
   "execution_count": 289,
   "metadata": {
    "collapsed": true
   },
   "outputs": [],
   "source": [
    "# Missing values\n",
    "\n",
    "df = df.where(~np.isnan(df), df.mean(), axis = 'columns')"
   ]
  },
  {
   "cell_type": "code",
   "execution_count": 290,
   "metadata": {},
   "outputs": [],
   "source": [
    "# Output value: 0 = normal, 1 = heart disease\n",
    "\n",
    "labels = (df['num'] > 0).values"
   ]
  },
  {
   "cell_type": "code",
   "execution_count": 291,
   "metadata": {},
   "outputs": [
    {
     "name": "stdout",
     "output_type": "stream",
     "text": [
      "[[ 0.71  1.    0.   ...,  0.    0.56  1.  ]\n",
      " [ 0.8   1.    1.   ...,  1.    0.47  0.5 ]\n",
      " [ 0.8   1.    1.   ...,  1.    0.59  0.5 ]\n",
      " ..., \n",
      " [ 0.9   1.    0.67 ...,  0.    0.48  0.5 ]\n",
      " [ 0.92  0.    0.67 ...,  0.    0.3   0.  ]\n",
      " [ 0.94  1.    0.33 ...,  0.    0.44  0.  ]]\n"
     ]
    }
   ],
   "source": [
    "# Scale the attributes between min and max\n",
    "\n",
    "df2 = (df - df.min())/(df.max() - df.min())\n",
    "\n",
    "# Select all attributes that were measured without angiography\n",
    "\n",
    "columns = ['age', 'sex', 'cp', 'tresbps', \n",
    "           'chol', 'fbs', 'restecg', 'thalach', \n",
    "           'exang', 'oldpeak', 'slope']\n",
    "\n",
    "# Convert the data to numpy array\n",
    "\n",
    "data = df2[columns].values\n",
    "\n",
    "# Print out the data, so we can see that everything goes right.\n",
    "\n",
    "print(data)"
   ]
  },
  {
   "cell_type": "code",
   "execution_count": 292,
   "metadata": {},
   "outputs": [
    {
     "data": {
      "text/plain": [
       "(920, 11)"
      ]
     },
     "execution_count": 292,
     "metadata": {},
     "output_type": "execute_result"
    }
   ],
   "source": [
    "# Size of data: Number of patients and number of columns.\n",
    "\n",
    "data.shape"
   ]
  },
  {
   "cell_type": "code",
   "execution_count": 293,
   "metadata": {},
   "outputs": [
    {
     "name": "stdout",
     "output_type": "stream",
     "text": [
      "              age       sex        cp   tresbps      chol       fbs   restecg  \\\n",
      "age      1.000000  0.056889  0.166245  0.235253 -0.084499  0.222810  0.212219   \n",
      "sex      0.056889  1.000000  0.170392  0.001073 -0.193782  0.086096 -0.015608   \n",
      "cp       0.166245  0.170392  1.000000  0.024297 -0.130656  0.038223  0.030991   \n",
      "tresbps  0.235253  0.001073  0.024297  1.000000  0.088290  0.135650  0.096591   \n",
      "chol    -0.084499 -0.193782 -0.130656  0.088290  1.000000  0.020493  0.114755   \n",
      "fbs      0.222810  0.086096  0.038223  0.135650  0.020493  1.000000  0.128408   \n",
      "restecg  0.212219 -0.015608  0.030991  0.096591  0.114755  0.128408  1.000000   \n",
      "thalach -0.353471 -0.177135 -0.338742 -0.104616  0.226325 -0.048344  0.051980   \n",
      "exang    0.194842  0.179209  0.406837  0.151857 -0.033110  0.025402  0.031590   \n",
      "oldpeak  0.248082  0.102733  0.235681  0.160268  0.045498  0.047497  0.115498   \n",
      "slope    0.119158  0.103178  0.158773  0.053894 -0.050685  0.067090 -0.012786   \n",
      "ca       0.204139  0.062058  0.129100  0.051940  0.017544  0.085204  0.099091   \n",
      "thal     0.091507  0.274681  0.210838  0.072813 -0.121821  0.071716 -0.032077   \n",
      "num      0.339596  0.259342  0.397896  0.116225 -0.228238  0.148423  0.140089   \n",
      "\n",
      "          thalach     exang   oldpeak     slope        ca      thal       num  \n",
      "age     -0.353471  0.194842  0.248082  0.119158  0.204139  0.091507  0.339596  \n",
      "sex     -0.177135  0.179209  0.102733  0.103178  0.062058  0.274681  0.259342  \n",
      "cp      -0.338742  0.406837  0.235681  0.158773  0.129100  0.210838  0.397896  \n",
      "tresbps -0.104616  0.151857  0.160268  0.053894  0.051940  0.072813  0.116225  \n",
      "chol     0.226325 -0.033110  0.045498 -0.050685  0.017544 -0.121821 -0.228238  \n",
      "fbs     -0.048344  0.025402  0.047497  0.067090  0.085204  0.071716  0.148423  \n",
      "restecg  0.051980  0.031590  0.115498 -0.012786  0.099091 -0.032077  0.140089  \n",
      "thalach  1.000000 -0.356439 -0.149630 -0.299530 -0.140644 -0.241219 -0.351055  \n",
      "exang   -0.356439  1.000000  0.390247  0.274861  0.073598  0.240410  0.372279  \n",
      "oldpeak -0.149630  0.390247  1.000000  0.363179  0.178886  0.180638  0.421907  \n",
      "slope   -0.299530  0.274861  0.363179  1.000000  0.074180  0.217242  0.253463  \n",
      "ca      -0.140644  0.073598  0.178886  0.074180  1.000000  0.206659  0.321404  \n",
      "thal    -0.241219  0.240410  0.180638  0.217242  0.206659  1.000000  0.320820  \n",
      "num     -0.351055  0.372279  0.421907  0.253463  0.321404  0.320820  1.000000  \n"
     ]
    }
   ],
   "source": [
    "#Correlation of dataframe df.\n",
    "\n",
    "corr = df.corr()\n",
    "print(corr)"
   ]
  },
  {
   "cell_type": "code",
   "execution_count": 294,
   "metadata": {},
   "outputs": [
    {
     "data": {
      "image/png": "[encoded data removed]",
      "text/plain": [
       "<matplotlib.figure.Figure at 0x1e25c687400>"
      ]
     },
     "metadata": {},
     "output_type": "display_data"
    }
   ],
   "source": [
    "# Graphical plot of correlation\n",
    "\n",
    "fig = plt.figure()\n",
    "ax = fig.add_subplot(111)\n",
    "cax = ax.matshow(corr, vmin=-1, vmax=1)\n",
    "fig.colorbar(cax)\n",
    "ticks = np.arange(0,11,1)\n",
    "ax.set_xticks(ticks)\n",
    "ax.set_yticks(ticks)\n",
    "ax.set_xticklabels(colnames)\n",
    "ax.set_yticklabels(colnames)\n",
    "plt.show()"
   ]
  },
  {
   "cell_type": "markdown",
   "metadata": {},
   "source": [
    "I have no idea why that plot looks like that. "
   ]
  },
  {
   "cell_type": "code",
   "execution_count": 295,
   "metadata": {},
   "outputs": [],
   "source": [
    "# Scale the data\n",
    "\n",
    "min_max_scaler = preprocessing.MinMaxScaler()\n",
    "\n",
    "data_scaled = min_max_scaler.fit_transform(data)"
   ]
  },
  {
   "cell_type": "code",
   "execution_count": 296,
   "metadata": {},
   "outputs": [
    {
     "data": {
      "text/plain": [
       "(array([ 1.,  1.,  1.,  1.,  1.,  1.,  1.,  1.,  1.,  1.,  1.]),\n",
       " array([[ 0.71,  1.  ,  0.  , ...,  0.  ,  0.56,  1.  ],\n",
       "        [ 0.8 ,  1.  ,  1.  , ...,  1.  ,  0.47,  0.5 ],\n",
       "        [ 0.8 ,  1.  ,  1.  , ...,  1.  ,  0.59,  0.5 ],\n",
       "        ..., \n",
       "        [ 0.9 ,  1.  ,  0.67, ...,  0.  ,  0.48,  0.5 ],\n",
       "        [ 0.92,  0.  ,  0.67, ...,  0.  ,  0.3 ,  0.  ],\n",
       "        [ 0.94,  1.  ,  0.33, ...,  0.  ,  0.44,  0.  ]]))"
      ]
     },
     "execution_count": 296,
     "metadata": {},
     "output_type": "execute_result"
    }
   ],
   "source": [
    "min_max_scaler.scale_, min_max_scaler.fit_transform(data)"
   ]
  },
  {
   "cell_type": "code",
   "execution_count": 297,
   "metadata": {},
   "outputs": [],
   "source": [
    "# Split the data into training and validation sets\n",
    "\n",
    "x_train, x_test, y_train, y_test = train_test_split(data_scaled, labels, test_size = 0.36)\n"
   ]
  },
  {
   "cell_type": "markdown",
   "metadata": {},
   "source": [
    "### 4. Modeling and compilation"
   ]
  },
  {
   "cell_type": "code",
   "execution_count": 298,
   "metadata": {
    "collapsed": true
   },
   "outputs": [],
   "source": [
    "# Create the NeuralNetwork model and train it.\n",
    "\n",
    "model = Sequential ()\n",
    "model.add(Dense(64, activation = 'relu', input_dim = 11))\n",
    "model.add(Dense(64, activation = 'relu'))\n",
    "model.add(Dense(1, activation = 'sigmoid'))\n",
    "\n",
    "model.compile(loss = 'binary_crossentropy',\n",
    "              optimizer = 'rmsprop',\n",
    "             metrics = ['accuracy'])\n"
   ]
  },
  {
   "cell_type": "markdown",
   "metadata": {},
   "source": [
    "### 5. Training and validation"
   ]
  },
  {
   "cell_type": "code",
   "execution_count": 299,
   "metadata": {
    "collapsed": true
   },
   "outputs": [],
   "source": [
    "# Training\n",
    "\n",
    "N = 100 # number of epochs\n",
    "h = model.fit(x_train, y_train, \n",
    "              verbose = 0,\n",
    "              epochs = N,\n",
    "             batch_size = 200,\n",
    "             validation_data = (x_test, y_test))"
   ]
  },
  {
   "cell_type": "code",
   "execution_count": 300,
   "metadata": {},
   "outputs": [
    {
     "data": {
      "image/png": "[encoded data removed]",
      "text/plain": [
       "<matplotlib.figure.Figure at 0x1e25e635828>"
      ]
     },
     "metadata": {},
     "output_type": "display_data"
    },
    {
     "data": {
      "image/png": "[encoded data removed]",
      "text/plain": [
       "<matplotlib.figure.Figure at 0x1e25e433e10>"
      ]
     },
     "metadata": {},
     "output_type": "display_data"
    }
   ],
   "source": [
    "# Plot the results \n",
    "epochs = range(1, N + 1)\n",
    "acc = h.history['acc']\n",
    "val_acc = h.history['val_acc']\n",
    "loss = h.history['loss']\n",
    "val_loss = h.history['val_loss']\n",
    "\n",
    "# Accuracy plot\n",
    "plt.figure(figsize = (20, 5))\n",
    "plt.plot(epochs, acc, 'bo', label='Training')\n",
    "plt.plot(epochs, val_acc, 'r-', label='Validation')\n",
    "plt.xlabel('Epochs')\n",
    "plt.ylabel('Accuracy')\n",
    "plt.ylim([0, 1])\n",
    "plt.grid()\n",
    "plt.legend()\n",
    "plt.show()\n",
    "\n",
    "# Loss plot\n",
    "plt.figure(figsize = (20, 5))\n",
    "plt.plot(epochs, loss, 'bo', label='Training')\n",
    "plt.plot(epochs, val_loss, 'r-', label='Validation')\n",
    "plt.xlabel('Epochs')\n",
    "plt.ylabel('Loss')\n",
    "plt.ylim([0, 1])\n",
    "plt.grid()\n",
    "plt.legend()\n",
    "plt.show()"
   ]
  },
  {
   "cell_type": "markdown",
   "metadata": {},
   "source": [
    "### 6. Evaluation"
   ]
  },
  {
   "cell_type": "code",
   "execution_count": 301,
   "metadata": {},
   "outputs": [
    {
     "name": "stdout",
     "output_type": "stream",
     "text": [
      "332/332 [==============================] - 0s 36us/step\n",
      "test acc: 0.786144567541\n"
     ]
    }
   ],
   "source": [
    "#Test the model\n",
    "\n",
    "test_loss, test_acc = model.evaluate(x_test, y_test, batch_size=200)\n",
    "print('test acc:', test_acc)"
   ]
  },
  {
   "cell_type": "markdown",
   "metadata": {
    "collapsed": true
   },
   "source": [
    "### 7. Results and Discussion"
   ]
  },
  {
   "cell_type": "code",
   "execution_count": 302,
   "metadata": {},
   "outputs": [
    {
     "data": {
      "image/png": "[encoded data removed]",
      "text/plain": [
       "<matplotlib.figure.Figure at 0x1e25c891ba8>"
      ]
     },
     "metadata": {},
     "output_type": "display_data"
    }
   ],
   "source": [
    "# Creates histogram from all databases of sex.\n",
    "\n",
    "df2['sex'].hist(bins = 10)\n",
    "plt.xlabel('0: female, 1: male')\n",
    "plt.ylabel('Number of patients')\n",
    "plt.show()"
   ]
  },
  {
   "cell_type": "markdown",
   "metadata": {},
   "source": [
    "Above is histogram that shows how many of patients was female and how many was male.<br>\n",
    "<br>\n",
    "Results show that number of male participations were over three times higher than females participations. In fact this is heart disease database and it is most common on males than females."
   ]
  },
  {
   "cell_type": "code",
   "execution_count": 303,
   "metadata": {},
   "outputs": [
    {
     "data": {
      "image/png": "[encoded data removed]",
      "text/plain": [
       "<matplotlib.figure.Figure at 0x1e25e513550>"
      ]
     },
     "metadata": {},
     "output_type": "display_data"
    }
   ],
   "source": [
    "# Creates histogram from Cleveland data 'cp'.\n",
    "\n",
    "dfc['cp'].hist(bins = 10)\n",
    "plt.show()"
   ]
  },
  {
   "cell_type": "markdown",
   "metadata": {},
   "source": [
    "Histogram above presents chest pain type (\"cp\") of patients from Cleveland data.<br> \n",
    "<br>Meaning of values: 1: typical angina, 2: atypical angina, 3: non-anginal pain, 4: asymptomatic   \n",
    "<br> \n",
    "There were most values of 4 in Cleveland data, which means that most of patients were asymptomatic."
   ]
  },
  {
   "cell_type": "code",
   "execution_count": 304,
   "metadata": {},
   "outputs": [
    {
     "name": "stdout",
     "output_type": "stream",
     "text": [
      "             precision    recall  f1-score   support\n",
      "\n",
      "    Class 1       0.75      0.72      0.74       138\n",
      "    Class 2       0.81      0.83      0.82       194\n",
      "\n",
      "avg / total       0.79      0.79      0.79       332\n",
      "\n",
      "[[100  38]\n",
      " [ 33 161]]\n"
     ]
    }
   ],
   "source": [
    "# CONFUSION MATRIX\n",
    "\n",
    "# Makes prediction y_pred\n",
    "\n",
    "Y_pred = model.predict(x_test)\n",
    "\n",
    "y_pred = np.argmax(Y_pred, axis=1)\n",
    "\n",
    "y_pred = model.predict_classes(x_test)\n",
    "\n",
    "# Give target names for classes\n",
    "\n",
    "target_names = ['Class 1', 'Class 2']\n",
    "\n",
    "print(classification_report(y_test, y_pred, target_names = target_names))\n",
    "print(confusion_matrix(y_test, y_pred))\n"
   ]
  },
  {
   "cell_type": "code",
   "execution_count": 305,
   "metadata": {},
   "outputs": [
    {
     "name": "stdout",
     "output_type": "stream",
     "text": [
      "Normalized confusion matrix\n",
      "[[ 0.72  0.28]\n",
      " [ 0.17  0.83]]\n"
     ]
    },
    {
     "data": {
      "image/png": "[encoded data removed]",
      "text/plain": [
       "<matplotlib.figure.Figure at 0x1e25e5d27b8>"
      ]
     },
     "metadata": {},
     "output_type": "display_data"
    }
   ],
   "source": [
    "# Next code is copied from sklearn website. I did not find other way to do this plotting.\n",
    "\n",
    "def plot_confusion_matrix(cm, classes,\n",
    "                          normalize=False,\n",
    "                          title='Confusion matrix',\n",
    "                          cmap=plt.cm.Blues):\n",
    "\n",
    "# Function print and plots confusion matrix\n",
    "\n",
    "    if normalize:\n",
    "        cm = cm.astype('float') / cm.sum(axis=1)[:, np.newaxis]\n",
    "        print(\"Normalized confusion matrix\")\n",
    "    else:\n",
    "        print('Confusion matrix, without normalization')\n",
    "\n",
    "    print(cm)\n",
    "\n",
    "    plt.imshow(cm, interpolation='nearest', cmap=cmap)\n",
    "    plt.title(title)\n",
    "    plt.colorbar()\n",
    "    tick_marks = np.arange(len(classes))\n",
    "    plt.xticks(tick_marks, classes, rotation=45)\n",
    "    plt.yticks(tick_marks, classes)\n",
    "\n",
    "    fmt = '.2f' if normalize else 'd'\n",
    "    thresh = cm.max() / 2.\n",
    "    for i, j in itertools.product(range(cm.shape[0]), range(cm.shape[1])):\n",
    "        plt.text(j, i, format(cm[i, j], fmt),\n",
    "                 horizontalalignment=\"center\",\n",
    "                 color=\"white\" if cm[i, j] > thresh else \"black\")\n",
    "\n",
    "    plt.tight_layout()\n",
    "    plt.ylabel('True')\n",
    "    plt.xlabel('Predicted')\n",
    "\n",
    "# Compute confusion matrix\n",
    "cnf_matrix = confusion_matrix(y_test, y_pred)\n",
    "np.set_printoptions(precision=2)\n",
    "\n",
    "# Plot normalized confusion matrix\n",
    "plt.figure()\n",
    "plot_confusion_matrix(cnf_matrix, classes=target_names, normalize=True,\n",
    "                      title='Normalized confusion matrix')\n",
    "\n",
    "plt.show()"
   ]
  },
  {
   "cell_type": "markdown",
   "metadata": {},
   "source": [
    "#### I tried this confusion matrix thing and it left me confused. \n",
    "Majority of that code is taken from \"http://scikit-learn.org\". <br>\n",
    "<br>\n",
    "I don't understand really what result on below means. I named target_names to \"Class 1\" and \"Class 2\".<br>\n",
    "I left confusion matrix in this report anyway, even though I did not get result what I wanted."
   ]
  },
  {
   "cell_type": "markdown",
   "metadata": {},
   "source": [
    "### 8. Conclusions\n",
    "<br>\n",
    "Case 1 is now done and I learned process data from databases with Jupyter notebook and use imports like pandas, sklearn, keras, numpy and matplotlib. I used processed data only for this assigment and did what I could with it. I learned to use those libraries and work with them little bit. <br>\n",
    "<br>\n",
    "I made couple simple graphical histograms from basic informations, like number of females and males. I made correlation matrix from dataframe and tried to make confusion matrix, it is what it is. I created neuralnetwork and trained it, just like we did at school this week. Testing the model gives about 0,8 accuracy.<br>\n",
    "<br>\n",
    "\n"
   ]
  },
  {
   "cell_type": "code",
   "execution_count": null,
   "metadata": {
    "collapsed": true
   },
   "outputs": [],
   "source": []
  }
 ],
 "metadata": {
  "kernelspec": {
   "display_name": "Python 3",
   "language": "python",
   "name": "python3"
  },
  "language_info": {
   "codemirror_mode": {
    "name": "ipython",
    "version": 3
   },
   "file_extension": ".py",
   "mimetype": "text/x-python",
   "name": "python",
   "nbconvert_exporter": "python",
   "pygments_lexer": "ipython3",
   "version": "3.6.3"
  }
 },
 "nbformat": 4,
 "nbformat_minor": 2
}
