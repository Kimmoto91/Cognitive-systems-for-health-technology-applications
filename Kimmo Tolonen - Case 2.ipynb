{
 "cells": [
  {
   "cell_type": "markdown",
   "metadata": {},
   "source": [
    "#  Week 4. Case 2\n",
    "Kimmo Eemil Juhani Tolonen<br>\n",
    "Last edited: 25.2.2018<br>\n",
    "Cognitive Systems for Health Technology Applications<br>\n",
    "Helsinki Metropolia University of Applied Sciences"
   ]
  },
  {
   "cell_type": "markdown",
   "metadata": {},
   "source": [
    "## 1. Objectives\n",
    "The aim of this Case 2 is to learn use convolutional neural networks to classify medical images. I downloaded datafile full of diabetic retinopathy images, thousands and thousands of images. Three different folders for training, testing and validation. Two different types of images nonsymptons and symptons. First I import all libraries that I need, then I built neural network and process data and so on. All that found below from this notebook file."
   ]
  },
  {
   "cell_type": "markdown",
   "metadata": {},
   "source": [
    "### Note (25.2)\n",
    "Okay now I take little risk here, I'm not happy with the last result that I get from training last time, result was only 0,73. I did little changes and now I run all, one more time. It is 6:32pm right now and deadline is under 3 hours from now. So let see what happens and how much time this takes. - Kimmo"
   ]
  },
  {
   "cell_type": "markdown",
   "metadata": {},
   "source": [
    "## 2. Import libraries"
   ]
  },
  {
   "cell_type": "code",
   "execution_count": 30,
   "metadata": {
    "collapsed": true
   },
   "outputs": [],
   "source": [
    "# Code, model and history filenames\n",
    "my_code = 'gpu_template.py'\n",
    "model_filename = 'case_2_model.h5'\n",
    "history_filename = 'case_2_history.p'"
   ]
  },
  {
   "cell_type": "code",
   "execution_count": 31,
   "metadata": {},
   "outputs": [
    {
     "name": "stdout",
     "output_type": "stream",
     "text": [
      "----------------------------------------------------------------------\n",
      " \n",
      "Starting the code ( Sun Feb 25 18:38:14 2018 ): gpu_template.py\n",
      " \n"
     ]
    }
   ],
   "source": [
    "# Info for the operator\n",
    "import time\n",
    "print('----------------------------------------------------------------------')\n",
    "print(' ')\n",
    "print('Starting the code (', time.asctime(), '):', my_code)\n",
    "print(' ')"
   ]
  },
  {
   "cell_type": "code",
   "execution_count": 32,
   "metadata": {},
   "outputs": [],
   "source": [
    "import numpy as np\n",
    "import matplotlib.pyplot as plt\n",
    "import keras\n",
    "from keras import layers\n",
    "from keras import models\n",
    "import pickle\n",
    "from keras.preprocessing.image import ImageDataGenerator\n",
    "from keras import optimizers\n",
    "import os\n",
    "\n",
    "%matplotlib inline"
   ]
  },
  {
   "cell_type": "markdown",
   "metadata": {},
   "source": [
    "## 3. Building network"
   ]
  },
  {
   "cell_type": "markdown",
   "metadata": {},
   "source": [
    "This chapter is the place where building model happens. I determined batch sizes and number of epoches allready here for data processing, which is later in this code. Adding layers happens here too. I tried VGG16 here, but that gave only 0,70 accuracy for testing the data, so I decided drop that out."
   ]
  },
  {
   "cell_type": "code",
   "execution_count": 33,
   "metadata": {
    "collapsed": true
   },
   "outputs": [],
   "source": [
    "# Training parameters\n",
    "batch_size = 40\n",
    "epochs = 20\n",
    "steps_per_epoch = 20 \n",
    "validation_steps = 20\n",
    "image_height = 150\n",
    "image_width = 150"
   ]
  },
  {
   "cell_type": "code",
   "execution_count": 34,
   "metadata": {},
   "outputs": [
    {
     "name": "stdout",
     "output_type": "stream",
     "text": [
      "_________________________________________________________________\n",
      "Layer (type)                 Output Shape              Param #   \n",
      "=================================================================\n",
      "conv2d_7 (Conv2D)            (None, 148, 148, 64)      1792      \n",
      "_________________________________________________________________\n",
      "max_pooling2d_7 (MaxPooling2 (None, 74, 74, 64)        0         \n",
      "_________________________________________________________________\n",
      "conv2d_8 (Conv2D)            (None, 72, 72, 64)        36928     \n",
      "_________________________________________________________________\n",
      "max_pooling2d_8 (MaxPooling2 (None, 36, 36, 64)        0         \n",
      "_________________________________________________________________\n",
      "conv2d_9 (Conv2D)            (None, 34, 34, 64)        36928     \n",
      "_________________________________________________________________\n",
      "max_pooling2d_9 (MaxPooling2 (None, 17, 17, 64)        0         \n",
      "_________________________________________________________________\n",
      "flatten_3 (Flatten)          (None, 18496)             0         \n",
      "_________________________________________________________________\n",
      "dense_5 (Dense)              (None, 138)               2552586   \n",
      "_________________________________________________________________\n",
      "dense_6 (Dense)              (None, 1)                 139       \n",
      "=================================================================\n",
      "Total params: 2,628,373\n",
      "Trainable params: 2,628,373\n",
      "Non-trainable params: 0\n",
      "_________________________________________________________________\n"
     ]
    }
   ],
   "source": [
    "# Build the model\n",
    "model = models.Sequential()\n",
    "model.add(layers.Conv2D(64, (3, 3), activation = 'relu', \n",
    "                        input_shape = (image_height, image_width, 3)))\n",
    "model.add(layers.MaxPooling2D((2, 2)))\n",
    "model.add(layers.Conv2D(64, (3, 3), activation = 'relu'))\n",
    "model.add(layers.MaxPooling2D((2, 2)))\n",
    "model.add(layers.Conv2D(64, (3, 3), activation = 'relu'))\n",
    "model.add(layers.MaxPooling2D((2, 2)))\n",
    "model.add(layers.Flatten())\n",
    "model.add(layers.Dense(138, activation='relu'))\n",
    "model.add(layers.Dense(1, activation='sigmoid'))\n",
    "\n",
    "model.summary()"
   ]
  },
  {
   "cell_type": "code",
   "execution_count": 35,
   "metadata": {
    "collapsed": true
   },
   "outputs": [],
   "source": [
    "model.compile(loss='binary_crossentropy',\n",
    "              optimizer=optimizers.RMSprop(lr=1e-4),\n",
    "              metrics=['acc'])"
   ]
  },
  {
   "cell_type": "markdown",
   "metadata": {},
   "source": [
    "## 4. Data preprocessing"
   ]
  },
  {
   "cell_type": "code",
   "execution_count": 36,
   "metadata": {},
   "outputs": [
    {
     "name": "stdout",
     "output_type": "stream",
     "text": [
      "Found 1237 images belonging to 2 classes.\n",
      "Found 413 images belonging to 2 classes.\n"
     ]
    }
   ],
   "source": [
    "# Dataset directories and labels files\n",
    "train_dir = \"..\\\\..\\\\dataset2\\\\train\"\n",
    "validation_dir = \"..\\\\..\\\\dataset2\\\\validation\"\n",
    "test_dir = \"..\\\\..\\\\dataset2\\\\test\" \n",
    "\n",
    "# All images will be rescaled by 1./255\n",
    "train_datagen = ImageDataGenerator(rescale=1./255)\n",
    "test_datagen = ImageDataGenerator(rescale=1./255)\n",
    "\n",
    "train_generator = train_datagen.flow_from_directory(\n",
    "        # This is the target directory\n",
    "        train_dir,\n",
    "        # All images will be resized to 150x150\n",
    "        target_size=(150, 150),\n",
    "        batch_size=20,\n",
    "        # Since we use binary_crossentropy loss, we need binary labels\n",
    "        class_mode='binary')\n",
    "\n",
    "validation_generator = test_datagen.flow_from_directory(\n",
    "        validation_dir,\n",
    "        target_size=(150, 150),\n",
    "        batch_size=20,\n",
    "        class_mode='binary')\n"
   ]
  },
  {
   "cell_type": "code",
   "execution_count": 37,
   "metadata": {
    "collapsed": true
   },
   "outputs": [],
   "source": [
    "# Create datagenerators for training, validation and testing\n",
    "\n",
    "train_datagen = ImageDataGenerator(rescale = 1./255,\n",
    "                                   zoom_range = 0.2,\n",
    "                                   horizontal_flip = True)\n",
    "validation_datagen = ImageDataGenerator(rescale = 1./255)\n",
    "test_datagen = ImageDataGenerator(rescale = 1./255)"
   ]
  },
  {
   "cell_type": "code",
   "execution_count": 38,
   "metadata": {},
   "outputs": [
    {
     "name": "stdout",
     "output_type": "stream",
     "text": [
      "data batch shape: (20, 150, 150, 3)\n",
      "labels batch shape: (20,)\n"
     ]
    }
   ],
   "source": [
    "# shapes\n",
    "\n",
    "for data_batch, labels_batch in train_generator:\n",
    "    print('data batch shape:', data_batch.shape)\n",
    "    print('labels batch shape:', labels_batch.shape)\n",
    "    break"
   ]
  },
  {
   "cell_type": "code",
   "execution_count": 39,
   "metadata": {},
   "outputs": [
    {
     "name": "stdout",
     "output_type": "stream",
     "text": [
      "Validation dataset.\n",
      "Found 413 images belonging to 2 classes.\n"
     ]
    }
   ],
   "source": [
    "# Generator for validation dataset\n",
    "print('Validation dataset.')\n",
    "validation_generator = validation_datagen.flow_from_directory(\n",
    "        validation_dir,\n",
    "        target_size = (image_height, image_width),\n",
    "        batch_size = batch_size,\n",
    "        class_mode = 'binary')"
   ]
  },
  {
   "cell_type": "code",
   "execution_count": 40,
   "metadata": {},
   "outputs": [
    {
     "data": {
      "text/plain": [
       "array([ 0.,  0.,  0.,  0.,  1.,  0.,  0.,  1.,  0.,  1.,  1.,  1.,  1.,\n",
       "        1.,  0.,  0.,  1.,  1.,  0.,  0.], dtype=float32)"
      ]
     },
     "execution_count": 40,
     "metadata": {},
     "output_type": "execute_result"
    }
   ],
   "source": [
    "labels_batch"
   ]
  },
  {
   "cell_type": "markdown",
   "metadata": {},
   "source": [
    "## 5. Modeling"
   ]
  },
  {
   "cell_type": "code",
   "execution_count": 41,
   "metadata": {
    "collapsed": true
   },
   "outputs": [],
   "source": [
    "# Compile the model\n",
    "model.compile(loss='binary_crossentropy',\n",
    "              optimizer=optimizers.RMSprop(),\n",
    "              metrics=['acc'])"
   ]
  },
  {
   "cell_type": "code",
   "execution_count": 42,
   "metadata": {
    "collapsed": true
   },
   "outputs": [],
   "source": [
    "# This makes file to my folder from next training\n",
    "model.save('case_2_run_1.h5')"
   ]
  },
  {
   "cell_type": "code",
   "execution_count": 43,
   "metadata": {},
   "outputs": [
    {
     "name": "stdout",
     "output_type": "stream",
     "text": [
      "Epoch 1/20\n",
      "20/20 [==============================] - 387s 19s/step - loss: 0.7932 - acc: 0.6425 - val_loss: 0.6547 - val_acc: 0.7516\n",
      "Epoch 2/20\n",
      "20/20 [==============================] - 267s 13s/step - loss: 0.5754 - acc: 0.7366 - val_loss: 0.5588 - val_acc: 0.7257\n",
      "Epoch 3/20\n",
      "20/20 [==============================] - 324s 16s/step - loss: 0.5442 - acc: 0.7275 - val_loss: 0.5229 - val_acc: 0.7413\n",
      "Epoch 4/20\n",
      "20/20 [==============================] - 351s 18s/step - loss: 0.4810 - acc: 0.7625 - val_loss: 0.4866 - val_acc: 0.7542\n",
      "Epoch 5/20\n",
      "20/20 [==============================] - 316s 16s/step - loss: 0.5177 - acc: 0.7332 - val_loss: 0.5141 - val_acc: 0.7361\n",
      "Epoch 6/20\n",
      "20/20 [==============================] - 303s 15s/step - loss: 0.4571 - acc: 0.7575 - val_loss: 0.4568 - val_acc: 0.7840\n",
      "Epoch 7/20\n",
      "20/20 [==============================] - 361s 18s/step - loss: 0.5051 - acc: 0.7250 - val_loss: 0.4779 - val_acc: 0.7684\n",
      "Epoch 8/20\n",
      "20/20 [==============================] - 279s 14s/step - loss: 0.4690 - acc: 0.7475 - val_loss: 0.4718 - val_acc: 0.7684\n",
      "Epoch 9/20\n",
      "20/20 [==============================] - 296s 15s/step - loss: 0.4575 - acc: 0.7712 - val_loss: 0.4539 - val_acc: 0.7814\n",
      "Epoch 10/20\n",
      "20/20 [==============================] - 337s 17s/step - loss: 0.4446 - acc: 0.7591 - val_loss: 0.4574 - val_acc: 0.7620\n",
      "Epoch 11/20\n",
      "20/20 [==============================] - 302s 15s/step - loss: 0.4717 - acc: 0.7350 - val_loss: 0.4559 - val_acc: 0.7658\n",
      "Epoch 12/20\n",
      "20/20 [==============================] - 311s 16s/step - loss: 0.4341 - acc: 0.7575 - val_loss: 0.4722 - val_acc: 0.7814\n",
      "Epoch 13/20\n",
      "20/20 [==============================] - 309s 15s/step - loss: 0.4783 - acc: 0.7236 - val_loss: 0.4699 - val_acc: 0.7814\n",
      "Epoch 14/20\n",
      "20/20 [==============================] - 283s 14s/step - loss: 0.4493 - acc: 0.7750 - val_loss: 0.4438 - val_acc: 0.7917\n",
      "Epoch 15/20\n",
      "20/20 [==============================] - 300s 15s/step - loss: 0.4352 - acc: 0.7875 - val_loss: 0.4564 - val_acc: 0.7865\n",
      "Epoch 16/20\n",
      "20/20 [==============================] - 310s 16s/step - loss: 0.4045 - acc: 0.7700 - val_loss: 0.5016 - val_acc: 0.7801\n",
      "Epoch 17/20\n",
      "20/20 [==============================] - 291s 15s/step - loss: 0.4362 - acc: 0.7800 - val_loss: 0.4661 - val_acc: 0.7865\n",
      "Epoch 18/20\n",
      "20/20 [==============================] - 286s 14s/step - loss: 0.4644 - acc: 0.7625 - val_loss: 0.4570 - val_acc: 0.7930\n",
      "Epoch 19/20\n",
      "20/20 [==============================] - 334s 17s/step - loss: 0.4050 - acc: 0.8041 - val_loss: 0.4692 - val_acc: 0.7930\n",
      "Epoch 20/20\n",
      "20/20 [==============================] - 314s 16s/step - loss: 0.4148 - acc: 0.7725 - val_loss: 0.4962 - val_acc: 0.7723\n"
     ]
    }
   ],
   "source": [
    "# Model training and show time, how much time it takes...and some times it takes a lot...\n",
    "t1 = time.time()\n",
    "h = model.fit_generator(\n",
    "      train_generator,\n",
    "      steps_per_epoch = steps_per_epoch,\n",
    "      verbose = 1,\n",
    "      epochs = epochs,\n",
    "      validation_data = validation_generator,\n",
    "      validation_steps = validation_steps)\n",
    "t2 = time.time()"
   ]
  },
  {
   "cell_type": "code",
   "execution_count": 44,
   "metadata": {},
   "outputs": [
    {
     "name": "stdout",
     "output_type": "stream",
     "text": [
      " \n",
      "Total elapsed time for training: 104.411 minutes\n",
      " \n"
     ]
    }
   ],
   "source": [
    "# Store the elapsed time into history\n",
    "h.history.update({'time_elapsed': t2 - t1})\n",
    "print(' ')\n",
    "print('Total elapsed time for training: {:.3f} minutes'.format((t2-t1)/60))\n",
    "print(' ')"
   ]
  },
  {
   "cell_type": "code",
   "execution_count": 45,
   "metadata": {},
   "outputs": [
    {
     "name": "stdout",
     "output_type": "stream",
     "text": [
      "Found 413 images belonging to 2 classes.\n",
      "test_acc: 0.791767552459\n"
     ]
    }
   ],
   "source": [
    "test_generator = test_datagen.flow_from_directory(\n",
    "        test_dir,\n",
    "        target_size=(150, 150),\n",
    "        batch_size=20,\n",
    "        class_mode='binary')\n",
    "\n",
    "test_loss, test_acc = model.evaluate_generator(test_generator, steps = 21)\n",
    "\n",
    "# Test accuracy\n",
    "print('test_acc:', test_acc)"
   ]
  },
  {
   "cell_type": "markdown",
   "metadata": {},
   "source": [
    "## 6. Results"
   ]
  },
  {
   "cell_type": "markdown",
   "metadata": {},
   "source": [
    "I trained that model many times and I did not get over 0,80 overall. I switch number of epoches, batch sizes, size of pictures, layer sizes and many other things. Some times training took over hour in my laptop. One time even my laptop crashed from overheating, maybe from that or from something else, but right after training completed I put laptop aside from table and it crashed. I trained these results at sunday evening and I decided to leave it here. I did little additions to results when I went trought some powerpoints from Oma, copied them and added them this notebook. Compiled explanations can be found below at \"Conclusions\" section."
   ]
  },
  {
   "cell_type": "code",
   "execution_count": 46,
   "metadata": {},
   "outputs": [
    {
     "data": {
      "image/png": "[encoded data removed]",
      "text/plain": [
       "<matplotlib.figure.Figure at 0x201860c0908>"
      ]
     },
     "metadata": {},
     "output_type": "display_data"
    },
    {
     "data": {
      "image/png": "[encoded data removed]",
      "text/plain": [
       "<matplotlib.figure.Figure at 0x201860f37f0>"
      ]
     },
     "metadata": {},
     "output_type": "display_data"
    }
   ],
   "source": [
    "import matplotlib.pyplot as plt\n",
    "\n",
    "acc = h.history['acc']\n",
    "val_acc = h.history['val_acc']\n",
    "loss = h.history['loss']\n",
    "val_loss = h.history['val_loss']\n",
    "\n",
    "epochs = range(len(acc))\n",
    "\n",
    "plt.plot(epochs, acc, 'bo', label='Training acc')\n",
    "plt.plot(epochs, val_acc, 'b', label='Validation acc')\n",
    "plt.title('Training and validation accuracy')\n",
    "plt.legend()\n",
    "\n",
    "plt.figure()\n",
    "\n",
    "plt.plot(epochs, loss, 'bo', label='Training loss')\n",
    "plt.plot(epochs, val_loss, 'b', label='Validation loss')\n",
    "plt.title('Training and validation loss')\n",
    "plt.legend()\n",
    "\n",
    "plt.show()"
   ]
  },
  {
   "cell_type": "code",
   "execution_count": 47,
   "metadata": {},
   "outputs": [],
   "source": [
    "# Predict the Score\n",
    "\n",
    "y_true = np.zeros(413)\n",
    "y_score = np.zeros(413)\n",
    "sample_count = 413\n",
    "i = 0\n",
    "for inputs_batch, labels_batch in test_generator:\n",
    "    predicts_batch = model.predict(inputs_batch)\n",
    "    L = labels_batch.shape[0]\n",
    "    index = range(i, i + L)\n",
    "    y_true[index] = labels_batch.ravel()\n",
    "    y_score[index] = predicts_batch.ravel()\n",
    "    i = i + L\n",
    "    if i >= sample_count:\n",
    "        break\n",
    "    "
   ]
  },
  {
   "cell_type": "code",
   "execution_count": 48,
   "metadata": {},
   "outputs": [
    {
     "data": {
      "image/png": "[encoded data removed]",
      "text/plain": [
       "<matplotlib.figure.Figure at 0x20185f1d3c8>"
      ]
     },
     "metadata": {},
     "output_type": "display_data"
    },
    {
     "data": {
      "image/png": "[encoded data removed]",
      "text/plain": [
       "<matplotlib.figure.Figure at 0x20186019ba8>"
      ]
     },
     "metadata": {},
     "output_type": "display_data"
    }
   ],
   "source": [
    "from sklearn.metrics import roc_curve, roc_auc_score\n",
    "\n",
    "fpr, tpr, thresholds = roc_curve(y_true, y_score)\n",
    "auc = roc_auc_score(y_true, y_score)\n",
    "\n",
    "plt.figure()\n",
    "plt.plot(fpr, tpr)\n",
    "plt.plot([0, 1], [0, 1], '--')\n",
    "plt.grid()\n",
    "plt.xlabel('False Positive Rate')\n",
    "plt.ylabel('True Positive Rate')\n",
    "plt.title('ROC curve   AUC = {:.3f}'.format(auc))\n",
    "plt.show()\n",
    "\n",
    "plt.figure()\n",
    "plt.plot(thresholds, 1-fpr, label = 'specificity')\n",
    "plt.plot(thresholds, tpr, label = 'sensitivity')\n",
    "plt.legend()\n",
    "plt.grid()\n",
    "plt.xlabel('Threshold value')\n",
    "plt.show()"
   ]
  },
  {
   "cell_type": "code",
   "execution_count": 49,
   "metadata": {
    "collapsed": true
   },
   "outputs": [],
   "source": [
    "# Import more libraries from sklearn.\n",
    "from sklearn.metrics import accuracy_score, precision_score, f1_score, confusion_matrix\n",
    "from sklearn.metrics import classification_report, recall_score\n",
    "from sklearn.metrics import precision_recall_curve\n",
    "from sklearn.metrics import average_precision_score"
   ]
  },
  {
   "cell_type": "code",
   "execution_count": 50,
   "metadata": {
    "collapsed": true
   },
   "outputs": [],
   "source": [
    "# Select the threshold to maximize both specificity and sensitivity\n",
    "th = 0.3"
   ]
  },
  {
   "cell_type": "code",
   "execution_count": 51,
   "metadata": {},
   "outputs": [
    {
     "name": "stdout",
     "output_type": "stream",
     "text": [
      "Accuracy:  0.717\n",
      "Precision: 0.505\n",
      "Recall:    0.916\n",
      "F1:        0.651\n"
     ]
    }
   ],
   "source": [
    "acc = accuracy_score(y_true, y_score > th)\n",
    "prec = precision_score(y_true, y_score > th)\n",
    "f1 = f1_score(y_true, y_score > th)\n",
    "recall = recall_score(y_true, y_score > th)\n",
    "\n",
    "print('Accuracy:  {:.3f}'.format(acc))\n",
    "print('Precision: {:.3f}'.format(prec))\n",
    "print('Recall:    {:.3f}'.format(recall))\n",
    "print('F1:        {:.3f}'.format(f1))"
   ]
  },
  {
   "cell_type": "code",
   "execution_count": 52,
   "metadata": {},
   "outputs": [
    {
     "name": "stdout",
     "output_type": "stream",
     "text": [
      "Classification report\n",
      "             precision    recall  f1-score   support\n",
      "\n",
      "    Disease       0.50      0.92      0.65       119\n",
      "    Healthy       0.95      0.64      0.76       294\n",
      "\n",
      "avg / total       0.82      0.72      0.73       413\n",
      "\n"
     ]
    }
   ],
   "source": [
    "print('Classification report')\n",
    "print(classification_report(y_true, y_score > th, labels = [1.0, 0.0], target_names = ['Disease', 'Healthy']))"
   ]
  },
  {
   "cell_type": "code",
   "execution_count": 53,
   "metadata": {},
   "outputs": [
    {
     "name": "stdout",
     "output_type": "stream",
     "text": [
      "                      Confusion matrix\n",
      "                       True condition\n",
      "                      Positive Negative      Sum\n",
      "Predicted | Positive       109      107      216\n",
      "condition | Negative        10      187      197\n",
      "                 Sum       119      294      413\n",
      " \n",
      "Sensitivity: 0.916\n",
      "Specificity: 0.636\n"
     ]
    }
   ],
   "source": [
    "tn, fp, fn, tp = confusion_matrix(y_true, y_score > th).ravel()\n",
    "\n",
    "print('                      Confusion matrix')\n",
    "print('                       True condition')\n",
    "print('                      Positive Negative      Sum')\n",
    "print('Predicted | Positive  {:8} {:8} {:8}'.format(tp, fp, tp + fp))\n",
    "print('condition | Negative  {:8} {:8} {:8}'.format(fn, tn, fn + tn))\n",
    "print('                 Sum  {:8} {:8} {:8}'.format(tp + fn, fp + tn, tp + fp + fn + tn))\n",
    "print(' ')\n",
    "print('Sensitivity: {:.3f}'.format(tp/(tp+fn)))\n",
    "print('Specificity: {:.3f}'.format(tn/(tn+fp)))"
   ]
  },
  {
   "cell_type": "markdown",
   "metadata": {},
   "source": [
    "## 7. Conclusions"
   ]
  },
  {
   "cell_type": "markdown",
   "metadata": {},
   "source": [
    "Lots of copied code and lots of training hours behind. Majority of this code is taken from example materials, but I tried to do some changes little bit. I changed Batch sizes and numbers of epochs many times and trained model over and over. I changed layer numbers and tried VGG16, but that gave only 0,70 accuracy. I changed target sizes too to 200, but I changed that back to 150. I tried many things, but not get very good results from testing. Sometimes I don't even know what I do, I change some numbers on added layers and train model again. At last evening I added predictions and confusion matrix, too late for more studying them. <br>\n",
    "<br>\n",
    "Classification report takes 413 samples and classified them, 119 diseased and 294 healthy. Test accuracy is 0.79, looks pretty good to me, but not over 0.80, which was ideal target.\n",
    "<br>\n",
    "<br>\n",
    "Okay last training completed about one hour before this cases deadline time, to my eyes result looks better than earlier results. My winter holiday (some people call that project week) activities (lots of skiing and watching olympic games) took time away from these school assigments. Majority of this work happened when I came back home from South-Savo on the weekend. Then my mind was still in olympic games and especially in cross-country skiing, that was epic. Lesson from this is, never left work at holiday week.\n",
    "<br>\n",
    "<br>\n",
    "Maybe I learned more from these cognitive systems, but I have still lot of work to do. Now I'm rested, energized and now it's time for the work. This Case is what it is and now I target my mind to Case 3 and exam. <br>\n",
    "<br>\n",
    "-Kimmo"
   ]
  },
  {
   "cell_type": "code",
   "execution_count": null,
   "metadata": {
    "collapsed": true
   },
   "outputs": [],
   "source": []
  }
 ],
 "metadata": {
  "kernelspec": {
   "display_name": "Python 3",
   "language": "python",
   "name": "python3"
  },
  "language_info": {
   "codemirror_mode": {
    "name": "ipython",
    "version": 3
   },
   "file_extension": ".py",
   "mimetype": "text/x-python",
   "name": "python",
   "nbconvert_exporter": "python",
   "pygments_lexer": "ipython3",
   "version": "3.6.3"
  }
 },
 "nbformat": 4,
 "nbformat_minor": 2
}
