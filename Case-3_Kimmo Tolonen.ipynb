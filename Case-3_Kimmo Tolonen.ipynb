{
 "cells": [
  {
   "cell_type": "markdown",
   "metadata": {},
   "source": [
    "# Case 3. Medical text categorization\n",
    "Kimmo Eemil Juhani Tolonen<br>\n",
    "Last edited: 11.03.2018<br>\n",
    "Metropolia University of Applied Sciences<br>\n",
    "Cognitive Systems for Health Technology Applications"
   ]
  },
  {
   "cell_type": "markdown",
   "metadata": {},
   "source": [
    "## 1. Objectives\n",
    "\"The aim of this assignment is to learn to use recurrent and 1D convolutional neural networks to\n",
    "categorize medical texts.\". Program should process human form of text and make prediction from trained data.<br>\n",
    "First I made other notebook file, where I downloaded needed data-file from website to my computer. That program made folders and put data there. Data processing happens in this notebook next and then it goes on. Major of this code is copied from example materials, once again. I trie to edit that code and get better results."
   ]
  },
  {
   "cell_type": "markdown",
   "metadata": {},
   "source": [
    "## 2. Processing the raw data\n",
    "In this chapter is data processing, where data is read from file from my computer. Then code make list from labels, which is files from \"training\"-files. Code count words from every file and print them in order. I tried to add real names to that list, but I didn't succeed in it, so I deleted that code."
   ]
  },
  {
   "cell_type": "code",
   "execution_count": 18,
   "metadata": {},
   "outputs": [
    {
     "name": "stdout",
     "output_type": "stream",
     "text": [
      "C01 423\n",
      "C02 158\n",
      "C03 65\n",
      "C04 1163\n",
      "C05 283\n",
      "C06 588\n",
      "C07 100\n",
      "C08 473\n",
      "C09 125\n",
      "C10 621\n",
      "C11 162\n",
      "C12 491\n",
      "C13 281\n",
      "C14 1249\n",
      "C15 215\n",
      "C16 200\n",
      "C17 295\n",
      "C18 388\n",
      "C19 191\n",
      "C20 525\n",
      "C21 546\n",
      "C22 92\n",
      "C23 1799\n",
      "Time elapsed 0.06 seconds.\n"
     ]
    }
   ],
   "source": [
    "import os\n",
    "import time\n",
    "\n",
    "ohsumed_dir = 'C:/Users/Kimmo/Documents/Cognitive Systems of Health Technology/ohsumed-first-20000-docs/'\n",
    "train_dir = os.path.join(ohsumed_dir, 'training')\n",
    "test_dir = os.path.join(ohsumed_dir, 'test')\n",
    "\n",
    "\n",
    "labels = []\n",
    "texts = []\n",
    "\n",
    "t1 =time.time()\n",
    "L = ['C{:02}'.format(n) for n in range(1, 23 + 1)]\n",
    "# Generate a list L = ['C01', 'C02, ..., 'C023']\n",
    "label_list = [label for label in os.listdir(train_dir)]\n",
    "\n",
    "for label_type in label_list:\n",
    "    dir_name = os.path.join(train_dir, label_type)\n",
    "    print(label_type, len(os.listdir(dir_name)))\n",
    "    for fname in os.listdir(dir_name):\n",
    "        f = open(os.path.join(dir_name, fname))\n",
    "        texts.append(f.read())\n",
    "        f.close()\n",
    "        labels.append(label_list.index(label_type))\n",
    "       \n",
    "t2 = time.time()\n",
    "print('Time elapsed {:.2f} seconds.'.format((t2-t1)/60))"
   ]
  },
  {
   "cell_type": "code",
   "execution_count": 19,
   "metadata": {},
   "outputs": [
    {
     "name": "stdout",
     "output_type": "stream",
     "text": [
      "Found 28665 unique tokens\n"
     ]
    }
   ],
   "source": [
    "from keras.preprocessing.text import Tokenizer\n",
    "from keras.preprocessing.sequence import pad_sequences\n",
    "import numpy as np\n",
    "\n",
    "maxlen = 300\n",
    "max_words = 10000\n",
    "\n",
    "# Filter removes special symbols and numbers.\n",
    "tokenizer = Tokenizer(num_words = max_words, filters='0123456789!\"#$%&()*+,-./:;<=>?@[\\\\]^_`{|}~\\t\\n',\n",
    "                                               lower=True,)\n",
    "tokenizer.fit_on_texts(texts)\n",
    "sequences = tokenizer.texts_to_sequences(texts)\n",
    "\n",
    "word_index = tokenizer.word_index\n",
    "print('Found %s unique tokens' % len(word_index))"
   ]
  },
  {
   "cell_type": "code",
   "execution_count": 20,
   "metadata": {},
   "outputs": [
    {
     "data": {
      "text/plain": [
       "10433"
      ]
     },
     "execution_count": 20,
     "metadata": {},
     "output_type": "execute_result"
    }
   ],
   "source": [
    "len(sequences)"
   ]
  },
  {
   "cell_type": "markdown",
   "metadata": {},
   "source": [
    "## Shape the data and labels"
   ]
  },
  {
   "cell_type": "code",
   "execution_count": 21,
   "metadata": {},
   "outputs": [
    {
     "name": "stdout",
     "output_type": "stream",
     "text": [
      "Shape of data tensor: (10433, 300)\n",
      "Shape of labels tensor: (10433, 23)\n"
     ]
    }
   ],
   "source": [
    "from keras.utils.np_utils import to_categorical\n",
    "\n",
    "data = pad_sequences(sequences, maxlen = maxlen)\n",
    "\n",
    "labels = np.asarray(labels)\n",
    "one_hot_labels = to_categorical(labels)\n",
    "\n",
    "\n",
    "print('Shape of data tensor:', data.shape)\n",
    "print('Shape of labels tensor:', one_hot_labels.shape)"
   ]
  },
  {
   "cell_type": "markdown",
   "metadata": {},
   "source": [
    "## Shuffle the data and labels"
   ]
  },
  {
   "cell_type": "code",
   "execution_count": 22,
   "metadata": {
    "collapsed": true
   },
   "outputs": [],
   "source": [
    "indices = np.arange(data.shape[0])\n",
    "np.random.shuffle(indices)\n",
    "data = data[indices]\n",
    "labels = labels[indices]\n",
    "one_hot_labels = one_hot_labels[indices]"
   ]
  },
  {
   "cell_type": "markdown",
   "metadata": {},
   "source": [
    "## Build the model\n",
    "First I copied example notebook code from Sakari's Github repository and aim was to make better model than that. I run that example, but soon I realised that not work so well. Accuracy was terrible on that code.\n",
    "<br>\n",
    "Building the model was this time very frustrating. I tried many different solutions, but none of them gave better results than the other. I even think did I put too much different layers in the model after all. <br>\n",
    "<br>\n",
    "### Sunday-monday night challenges\n",
    "I restarted jupyter notebook again and run all last time, then suddenly keras layers is not defined. I commented that line and continue without Conv1D. It is almost monday already and this Case was supposed to be returned at this time. I just want to run this program and return it, but now this model start to gave errors for everything \"name 'L' is not defined\". I can't believe this anymore! First everything works and suddenly I receive errors for everything."
   ]
  },
  {
   "cell_type": "code",
   "execution_count": 23,
   "metadata": {},
   "outputs": [
    {
     "name": "stdout",
     "output_type": "stream",
     "text": [
      "_________________________________________________________________\n",
      "Layer (type)                 Output Shape              Param #   \n",
      "=================================================================\n",
      "embedding_4 (Embedding)      (None, 300, 32)           320000    \n",
      "_________________________________________________________________\n",
      "lstm_2 (LSTM)                (None, 100)               53200     \n",
      "_________________________________________________________________\n",
      "dense_3 (Dense)              (None, 32)                3232      \n",
      "_________________________________________________________________\n",
      "dense_4 (Dense)              (None, 1)                 33        \n",
      "_________________________________________________________________\n",
      "dense_5 (Dense)              (None, 23)                46        \n",
      "=================================================================\n",
      "Total params: 376,511\n",
      "Trainable params: 376,511\n",
      "Non-trainable params: 0\n",
      "_________________________________________________________________\n"
     ]
    }
   ],
   "source": [
    "# Build the model\n",
    "\n",
    "from keras.models import Sequential\n",
    "from keras.layers import Flatten, Dense, Embedding, Convolution1D\n",
    "from keras.layers import LSTM\n",
    "\n",
    "model = Sequential()\n",
    "model.add(Embedding(max_words, 32, input_length=maxlen))\n",
    "#model.add(layers.Conv1D(32, 67, activation='relu')) #// name 'layers' is not defined\n",
    "model.add(LSTM(100))\n",
    "model.add(Dense(32, activation='relu'))\n",
    "model.add(Dense(1, activation='sigmoid'))\n",
    "model.add(Dense(len(L), activation = 'softmax'))\n",
    "\n",
    "model.compile(optimizer = 'rmsprop',\n",
    "             loss = 'categorical_crossentropy',\n",
    "             metrics = ['accuracy'])\n",
    "\n",
    "model.summary()"
   ]
  },
  {
   "cell_type": "markdown",
   "metadata": {},
   "source": [
    "## Train the model"
   ]
  },
  {
   "cell_type": "markdown",
   "metadata": {},
   "source": [
    "I tried to add LSTM(100) layer and that gave again only 0.17 accuracy. Then I Change that LSTM to flatten() and train again, this model gave me that same 0.17 accuracy. I had both times only one epoch and batch size was 50. Before that I tried add many dense layers with large numbers, but that didn't gave me wanted results. Many dense layers with large numbers gave better accuracy, but validation acccuracy was critically lower than that. Best result was 0.55 accuracy, but validation was once again only 0.17.<br>\n",
    "At this time even playing with number of epoches and batch sizes did not help, the results did not improve. Even that time print shows only seconds, even though I copied that from my previous case, which shows time in minutes, well now this code shows time in seconds then. I think that my 5 years old laptop is slower than before and maybe this Jupyter Notebook is a bit messy."
   ]
  },
  {
   "cell_type": "code",
   "execution_count": 24,
   "metadata": {
    "scrolled": true
   },
   "outputs": [
    {
     "name": "stdout",
     "output_type": "stream",
     "text": [
      "Train on 8346 samples, validate on 2087 samples\n",
      "Epoch 1/25\n",
      "8346/8346 [==============================] - 84s 10ms/step - loss: 3.0989 - acc: 0.1650 - val_loss: 3.0656 - val_acc: 0.1792\n",
      "Epoch 2/25\n",
      "8346/8346 [==============================] - 51s 6ms/step - loss: 3.0385 - acc: 0.1707 - val_loss: 3.0095 - val_acc: 0.1792\n",
      "Epoch 3/25\n",
      "8346/8346 [==============================] - 51s 6ms/step - loss: 2.9873 - acc: 0.1707 - val_loss: 2.9619 - val_acc: 0.1792\n",
      "Epoch 4/25\n",
      "8346/8346 [==============================] - 51s 6ms/step - loss: 2.9442 - acc: 0.1707 - val_loss: 2.9219 - val_acc: 0.1792\n",
      "Epoch 5/25\n",
      "8346/8346 [==============================] - 51s 6ms/step - loss: 2.9089 - acc: 0.1707 - val_loss: 2.8897 - val_acc: 0.1792\n",
      "Epoch 6/25\n",
      "8346/8346 [==============================] - 51s 6ms/step - loss: 2.8805 - acc: 0.1707 - val_loss: 2.8638 - val_acc: 0.1792\n",
      "Epoch 7/25\n",
      "8346/8346 [==============================] - 51s 6ms/step - loss: 2.8579 - acc: 0.1707 - val_loss: 2.8434 - val_acc: 0.1792\n",
      "Epoch 8/25\n",
      "8346/8346 [==============================] - 51s 6ms/step - loss: 2.8407 - acc: 0.1707 - val_loss: 2.8279 - val_acc: 0.1792\n",
      "Epoch 9/25\n",
      "8346/8346 [==============================] - 51s 6ms/step - loss: 2.8279 - acc: 0.1707 - val_loss: 2.8166 - val_acc: 0.1792\n",
      "Epoch 10/25\n",
      "8346/8346 [==============================] - 51s 6ms/step - loss: 2.8190 - acc: 0.1707 - val_loss: 2.8087 - val_acc: 0.1792\n",
      "Epoch 11/25\n",
      "8346/8346 [==============================] - 51s 6ms/step - loss: 2.8126 - acc: 0.1707 - val_loss: 2.8031 - val_acc: 0.1792\n",
      "Epoch 12/25\n",
      "8346/8346 [==============================] - 51s 6ms/step - loss: 2.8085 - acc: 0.1707 - val_loss: 2.7996 - val_acc: 0.1792\n",
      "Epoch 13/25\n",
      "8346/8346 [==============================] - 51s 6ms/step - loss: 2.8057 - acc: 0.1707 - val_loss: 2.7973 - val_acc: 0.1792\n",
      "Epoch 14/25\n",
      "8346/8346 [==============================] - 51s 6ms/step - loss: 2.8038 - acc: 0.1707 - val_loss: 2.7956 - val_acc: 0.1792\n",
      "Epoch 15/25\n",
      "8346/8346 [==============================] - 51s 6ms/step - loss: 2.8026 - acc: 0.1707 - val_loss: 2.7946 - val_acc: 0.1792\n",
      "Epoch 16/25\n",
      "8346/8346 [==============================] - 51s 6ms/step - loss: 2.8017 - acc: 0.1707 - val_loss: 2.7938 - val_acc: 0.1792\n",
      "Epoch 17/25\n",
      "8346/8346 [==============================] - 53s 6ms/step - loss: 2.8010 - acc: 0.1707 - val_loss: 2.7933 - val_acc: 0.1792\n",
      "Epoch 18/25\n",
      "8346/8346 [==============================] - 53s 6ms/step - loss: 2.8006 - acc: 0.1707 - val_loss: 2.7930 - val_acc: 0.1792\n",
      "Epoch 19/25\n",
      "8346/8346 [==============================] - 52s 6ms/step - loss: 2.8002 - acc: 0.1707 - val_loss: 2.7927 - val_acc: 0.1792\n",
      "Epoch 20/25\n",
      "8346/8346 [==============================] - 51s 6ms/step - loss: 2.8000 - acc: 0.1707 - val_loss: 2.7925 - val_acc: 0.1792\n",
      "Epoch 21/25\n",
      "8346/8346 [==============================] - 51s 6ms/step - loss: 2.7998 - acc: 0.1707 - val_loss: 2.7924 - val_acc: 0.1792\n",
      "Epoch 22/25\n",
      "8346/8346 [==============================] - 51s 6ms/step - loss: 2.7996 - acc: 0.1707 - val_loss: 2.7924 - val_acc: 0.1792\n",
      "Epoch 23/25\n",
      "8346/8346 [==============================] - 51s 6ms/step - loss: 2.7995 - acc: 0.1707 - val_loss: 2.7923 - val_acc: 0.1792\n",
      "Epoch 24/25\n",
      "8346/8346 [==============================] - 51s 6ms/step - loss: 2.7994 - acc: 0.1707 - val_loss: 2.7922 - val_acc: 0.1792\n",
      "Epoch 25/25\n",
      "8346/8346 [==============================] - 52s 6ms/step - loss: 2.7993 - acc: 0.1707 - val_loss: 2.7922 - val_acc: 0.1792\n",
      "Elapsed time: 1317.567 seconds\n"
     ]
    }
   ],
   "source": [
    "import time\n",
    "\n",
    "t1 = time.time()\n",
    "history = model.fit(data, one_hot_labels,\n",
    "                   epochs = 25,\n",
    "                   batch_size = 64,\n",
    "                   validation_split = 0.2)\n",
    "t2 = time.time()\n",
    "print('Elapsed time: {:.3f} seconds'.format((t2-t1)))"
   ]
  },
  {
   "cell_type": "code",
   "execution_count": 25,
   "metadata": {},
   "outputs": [
    {
     "name": "stdout",
     "output_type": "stream",
     "text": [
      "10433/10433 [==============================] - 21s 2ms/step\n",
      "test_acc: 0.172433624077\n"
     ]
    }
   ],
   "source": [
    "# Testing the trained network\n",
    "test_loss, test_acc = model.evaluate(data, one_hot_labels)\n",
    "print('test_acc:', test_acc)"
   ]
  },
  {
   "cell_type": "markdown",
   "metadata": {},
   "source": [
    "## Training results"
   ]
  },
  {
   "cell_type": "markdown",
   "metadata": {},
   "source": [
    "Results found here and plots."
   ]
  },
  {
   "cell_type": "code",
   "execution_count": 26,
   "metadata": {},
   "outputs": [
    {
     "data": {
      "image/png": "[encoded data removed]",
      "text/plain": [
       "<matplotlib.figure.Figure at 0x205d54c42e8>"
      ]
     },
     "metadata": {},
     "output_type": "display_data"
    },
    {
     "data": {
      "image/png": "[encoded data removed]",
      "text/plain": [
       "<matplotlib.figure.Figure at 0x205d4f3c5f8>"
      ]
     },
     "metadata": {},
     "output_type": "display_data"
    }
   ],
   "source": [
    "\n",
    "import matplotlib.pyplot as plt\n",
    "\n",
    "acc = history.history['acc']\n",
    "val_acc = history.history['val_acc']\n",
    "loss = history.history['loss']\n",
    "val_loss = history.history['val_loss']\n",
    "\n",
    "epochs = range(1, len(acc) + 1)\n",
    "\n",
    "plt.figure(figsize=(15, 3))\n",
    "plt.plot(epochs, acc, 'bo', label='Training acc')\n",
    "plt.plot(epochs, val_acc, 'b', label='Validation acc')\n",
    "plt.title('Training and validation accuracy')\n",
    "plt.grid()\n",
    "plt.xlabel('Epoch')\n",
    "plt.legend()\n",
    "\n",
    "\n",
    "plt.figure(figsize=(15, 3))\n",
    "plt.plot(epochs, loss, 'bo', label='Training loss')\n",
    "plt.plot(epochs, val_loss, 'b', label='Validation loss')\n",
    "plt.title('Training and validation loss')\n",
    "plt.grid()\n",
    "plt.xlabel('Epoch')\n",
    "plt.legend()\n",
    "\n",
    "plt.show()"
   ]
  },
  {
   "cell_type": "markdown",
   "metadata": {},
   "source": [
    "## Metric results"
   ]
  },
  {
   "cell_type": "markdown",
   "metadata": {},
   "source": [
    "I ran out of time, this chapter remained crude and ugly. Code prints some text and predicts where chosen text is from."
   ]
  },
  {
   "cell_type": "code",
   "execution_count": 27,
   "metadata": {
    "collapsed": true
   },
   "outputs": [],
   "source": [
    "# Calculate the predictions\n",
    "predictions = model.predict(data)\n",
    "y_pred = np.argmax(predictions, axis = 1)"
   ]
  },
  {
   "cell_type": "code",
   "execution_count": 28,
   "metadata": {
    "collapsed": true
   },
   "outputs": [],
   "source": [
    "# http://scikit-learn.org/stable/modules/model_evaluation.html\n",
    "from sklearn.metrics import accuracy_score, precision_score, f1_score, confusion_matrix\n",
    "from sklearn.metrics import classification_report, recall_score"
   ]
  },
  {
   "cell_type": "code",
   "execution_count": 29,
   "metadata": {},
   "outputs": [
    {
     "name": "stdout",
     "output_type": "stream",
     "text": [
      "             precision    recall  f1-score   support\n",
      "\n",
      "          0       0.00      0.00      0.00       423\n",
      "          1       0.00      0.00      0.00       158\n",
      "          2       0.00      0.00      0.00        65\n",
      "          3       0.00      0.00      0.00      1163\n",
      "          4       0.00      0.00      0.00       283\n",
      "          5       0.00      0.00      0.00       588\n",
      "          6       0.00      0.00      0.00       100\n",
      "          7       0.00      0.00      0.00       473\n",
      "          8       0.00      0.00      0.00       125\n",
      "          9       0.00      0.00      0.00       621\n",
      "         10       0.00      0.00      0.00       162\n",
      "         11       0.00      0.00      0.00       491\n",
      "         12       0.00      0.00      0.00       281\n",
      "         13       0.00      0.00      0.00      1249\n",
      "         14       0.00      0.00      0.00       215\n",
      "         15       0.00      0.00      0.00       200\n",
      "         16       0.00      0.00      0.00       295\n",
      "         17       0.00      0.00      0.00       388\n",
      "         18       0.00      0.00      0.00       191\n",
      "         19       0.00      0.00      0.00       525\n",
      "         20       0.00      0.00      0.00       546\n",
      "         21       0.00      0.00      0.00        92\n",
      "         22       0.17      1.00      0.29      1799\n",
      "\n",
      "avg / total       0.03      0.17      0.05     10433\n",
      "\n"
     ]
    },
    {
     "name": "stderr",
     "output_type": "stream",
     "text": [
      "C:\\Anaconda3\\lib\\site-packages\\sklearn\\metrics\\classification.py:1135: UndefinedMetricWarning: Precision and F-score are ill-defined and being set to 0.0 in labels with no predicted samples.\n",
      "  'precision', 'predicted', average, warn_for)\n"
     ]
    }
   ],
   "source": [
    "# Classification results per class\n",
    "print(classification_report(labels, y_pred))"
   ]
  },
  {
   "cell_type": "code",
   "execution_count": 30,
   "metadata": {},
   "outputs": [
    {
     "name": "stdout",
     "output_type": "stream",
     "text": [
      "[[   0    0    0    0    0    0    0    0    0    0    0    0    0    0    0    0    0    0    0\n",
      "     0    0    0  423]\n",
      " [   0    0    0    0    0    0    0    0    0    0    0    0    0    0    0    0    0    0    0\n",
      "     0    0    0  158]\n",
      " [   0    0    0    0    0    0    0    0    0    0    0    0    0    0    0    0    0    0    0\n",
      "     0    0    0   65]\n",
      " [   0    0    0    0    0    0    0    0    0    0    0    0    0    0    0    0    0    0    0\n",
      "     0    0    0 1163]\n",
      " [   0    0    0    0    0    0    0    0    0    0    0    0    0    0    0    0    0    0    0\n",
      "     0    0    0  283]\n",
      " [   0    0    0    0    0    0    0    0    0    0    0    0    0    0    0    0    0    0    0\n",
      "     0    0    0  588]\n",
      " [   0    0    0    0    0    0    0    0    0    0    0    0    0    0    0    0    0    0    0\n",
      "     0    0    0  100]\n",
      " [   0    0    0    0    0    0    0    0    0    0    0    0    0    0    0    0    0    0    0\n",
      "     0    0    0  473]\n",
      " [   0    0    0    0    0    0    0    0    0    0    0    0    0    0    0    0    0    0    0\n",
      "     0    0    0  125]\n",
      " [   0    0    0    0    0    0    0    0    0    0    0    0    0    0    0    0    0    0    0\n",
      "     0    0    0  621]\n",
      " [   0    0    0    0    0    0    0    0    0    0    0    0    0    0    0    0    0    0    0\n",
      "     0    0    0  162]\n",
      " [   0    0    0    0    0    0    0    0    0    0    0    0    0    0    0    0    0    0    0\n",
      "     0    0    0  491]\n",
      " [   0    0    0    0    0    0    0    0    0    0    0    0    0    0    0    0    0    0    0\n",
      "     0    0    0  281]\n",
      " [   0    0    0    0    0    0    0    0    0    0    0    0    0    0    0    0    0    0    0\n",
      "     0    0    0 1249]\n",
      " [   0    0    0    0    0    0    0    0    0    0    0    0    0    0    0    0    0    0    0\n",
      "     0    0    0  215]\n",
      " [   0    0    0    0    0    0    0    0    0    0    0    0    0    0    0    0    0    0    0\n",
      "     0    0    0  200]\n",
      " [   0    0    0    0    0    0    0    0    0    0    0    0    0    0    0    0    0    0    0\n",
      "     0    0    0  295]\n",
      " [   0    0    0    0    0    0    0    0    0    0    0    0    0    0    0    0    0    0    0\n",
      "     0    0    0  388]\n",
      " [   0    0    0    0    0    0    0    0    0    0    0    0    0    0    0    0    0    0    0\n",
      "     0    0    0  191]\n",
      " [   0    0    0    0    0    0    0    0    0    0    0    0    0    0    0    0    0    0    0\n",
      "     0    0    0  525]\n",
      " [   0    0    0    0    0    0    0    0    0    0    0    0    0    0    0    0    0    0    0\n",
      "     0    0    0  546]\n",
      " [   0    0    0    0    0    0    0    0    0    0    0    0    0    0    0    0    0    0    0\n",
      "     0    0    0   92]\n",
      " [   0    0    0    0    0    0    0    0    0    0    0    0    0    0    0    0    0    0    0\n",
      "     0    0    0 1799]]\n"
     ]
    }
   ],
   "source": [
    "# Confusion matrix\n",
    "cm = confusion_matrix(labels, y_pred)\n",
    "print(np.array2string(cm, max_line_width = 100))"
   ]
  },
  {
   "cell_type": "code",
   "execution_count": 31,
   "metadata": {},
   "outputs": [
    {
     "name": "stdout",
     "output_type": "stream",
     "text": [
      "Identification of human immunodeficiency virus hybridizing sequences in the peripheral blood of a patient with systemic lupus erythematosus.\n",
      " Systemic lupus erythematosus, a multisystemic disorder, is considered a prototype of the autoimmune diseases.\n",
      " Although its cause remains unknown, a viral etiology has been proposed.\n",
      " We report that a rapid and sensitive messenger RNA in situ hybridization technique detected hybridizing sequences to the human immunodeficiency virus type in the peripheral blood cells of a woman with systemic lupus erythematosus in whom the presence of acquired immuno-deficiency syndrome was reasonably excluded.\n",
      "\n"
     ]
    }
   ],
   "source": [
    "# Check the text\n",
    "print(texts[indices[500]])"
   ]
  },
  {
   "cell_type": "code",
   "execution_count": 32,
   "metadata": {},
   "outputs": [
    {
     "name": "stdout",
     "output_type": "stream",
     "text": [
      "--------------------------------------------------------------------------------\n",
      "                                          class_names  class_num\n",
      "0                    Bacterial Infections and Mycoses          0\n",
      "1                                      Virus Diseases          1\n",
      "2                                  Parasitic Diseases          2\n",
      "3                                           Neoplasms          3\n",
      "4                            Musculoskeletal Diseases          4\n",
      "5                           Digestive System Diseases          5\n",
      "6                             Stomatognathic Diseases          6\n",
      "7                          Respiratory Tract Diseases          7\n",
      "8                       Otorhinolaryngologic Diseases          8\n",
      "9                             Nervous System Diseases          9\n",
      "10                                       Eye Diseases         10\n",
      "11                 Urologic and Male Genital Diseases         11\n",
      "12  Female Genital Diseases and Pregnancy Complica...         12\n",
      "13                            Cardiovascular Diseases         13\n",
      "14                       Hemic and Lymphatic Diseases         14\n",
      "15                Neonatal Diseases and Abnormalities         15\n",
      "16                Skin and Connective Tissue Diseases         16\n",
      "17                 Nutritional and Metabolic Diseases         17\n",
      "18                                 Endocrine Diseases         18\n",
      "19                               Immunologic Diseases         19\n",
      "20                  Disorders of Environmental Origin         20\n",
      "21                                    Animal Diseases         21\n",
      "22        Pathological Conditions, Signs and Symptoms         22\n",
      "--------------------------------------------------------------------------------\n",
      "--------------------------------------------------------------------------------\n",
      "PREDICTION\n",
      "True class:  19\n",
      "Predicted class: 22\n",
      "Predictions per class:\n",
      "[ 0.04  0.02  0.01  0.11  0.03  0.05  0.01  0.04  0.01  0.06  0.02  0.05\n",
      "  0.03  0.12  0.02  0.02  0.03  0.04  0.02  0.05  0.05  0.01  0.17]\n"
     ]
    },
    {
     "data": {
      "image/png": "[encoded data removed]",
      "text/plain": [
       "<matplotlib.figure.Figure at 0x205e1268048>"
      ]
     },
     "metadata": {},
     "output_type": "display_data"
    }
   ],
   "source": [
    "# Check list of class names and predicition\n",
    "import pandas as pd\n",
    "\n",
    "Classes = {\n",
    "    'class_names' : ['Bacterial Infections and Mycoses', 'Virus Diseases', 'Parasitic Diseases', 'Neoplasms', 'Musculoskeletal Diseases', \n",
    "                       'Digestive System Diseases', 'Stomatognathic Diseases', 'Respiratory Tract Diseases', 'Otorhinolaryngologic Diseases',\n",
    "                       'Nervous System Diseases', 'Eye Diseases', 'Urologic and Male Genital Diseases', 'Female Genital Diseases and Pregnancy Complications',\n",
    "                       'Cardiovascular Diseases', 'Hemic and Lymphatic Diseases', 'Neonatal Diseases and Abnormalities', 'Skin and Connective Tissue Diseases',\n",
    "                       'Nutritional and Metabolic Diseases', 'Endocrine Diseases', 'Immunologic Diseases', 'Disorders of Environmental Origin',\n",
    "                       'Animal Diseases', 'Pathological Conditions, Signs and Symptoms'],\n",
    "    'class_num' : [0, 1, 2, 3, 4, 5, 6, 7, 8, 9, 10, 11, 12, 13, 14, 15, 16, 17, 18, 19, 20, 21, 22]\n",
    "}\n",
    "df = pd.DataFrame(Classes);\n",
    "print(80*'-')\n",
    "print(df)\n",
    "print(80*'-')\n",
    "print(80*'-')\n",
    "\n",
    "print('PREDICTION')\n",
    "print('True class: ', labels[500])\n",
    "print('Predicted class:', y_pred[500])\n",
    "print('Predictions per class:')\n",
    "print(np.array2string(predictions[500], precision = 2))\n",
    "\n",
    "plt.stem(predictions[512])\n",
    "plt.show()"
   ]
  },
  {
   "cell_type": "markdown",
   "metadata": {},
   "source": [
    "## Conclusions\n",
    "No matter what I did training result stayed very low, validation accuracy was every time about 0.17. My main focus was in this case was to create better model than example ones. Unfortunately that didn't happen at this time. Best results from training came with many dense layers with large numbers, training accuracy was then 0.55, but validation accuracy stayed low, only 0.17. So I draw the conclusion that this kind of result wasn't very good.<br>\n",
    "<br>\n",
    "I ran out of time when made this Case and results chapter remained pretty crude. When finishing this case, I still tried to make better model, but results was even worse than before. Last training result was that same 0.17, but I found out that I wrote down earlier result to my notebook (real notebook, made out of paper) at last friday: model had LSTM(100), 3 dense layers: ((784), (192), (32)), 10 epoches and batch size was 50. I can't believe this, but my notes said that training accuracy was about 0.38 and validation accuracy 0.21. Not very good either, but better than all the results of today. This is now my final results in this Case, but I am not satisfied with them.<br>\n",
    "<br>\n",
    "Sometimes I think wich is better, have many epoches or large batch size? Sometimes results and time of training is not depending on batch size, example today once I had batch size of 80 and then I reduced that at 20, but still training took as long as with bigger batch size. Or is it better that there is lot of epoches with small batch size? Or is layers those which determines how good results will be? I don't know right now, but this time result was always the same, sometimes training took longer and sometimes quicker, but accuracy for validation was that damn 0.17.<br>\n",
    "<br>\n",
    "-Kimmo"
   ]
  },
  {
   "cell_type": "code",
   "execution_count": null,
   "metadata": {
    "collapsed": true
   },
   "outputs": [],
   "source": []
  }
 ],
 "metadata": {
  "kernelspec": {
   "display_name": "Python 3",
   "language": "python",
   "name": "python3"
  },
  "language_info": {
   "codemirror_mode": {
    "name": "ipython",
    "version": 3
   },
   "file_extension": ".py",
   "mimetype": "text/x-python",
   "name": "python",
   "nbconvert_exporter": "python",
   "pygments_lexer": "ipython3",
   "version": "3.6.3"
  }
 },
 "nbformat": 4,
 "nbformat_minor": 2
}
